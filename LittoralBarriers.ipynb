{
 "cells": [
  {
   "cell_type": "markdown",
   "id": "fd8e0192",
   "metadata": {},
   "source": [
    "## Libraries"
   ]
  },
  {
   "cell_type": "code",
   "execution_count": 18,
   "id": "b9384730",
   "metadata": {},
   "outputs": [],
   "source": [
    "import plotly.express as px\n",
    "import pandas as pd\n",
    "import plotly.graph_objs as go\n",
    "import math"
   ]
  },
  {
   "cell_type": "markdown",
   "id": "1a4bb27a",
   "metadata": {},
   "source": [
    "## Functions"
   ]
  },
  {
   "cell_type": "code",
   "execution_count": 19,
   "id": "d080c89d",
   "metadata": {},
   "outputs": [],
   "source": [
    "def haversine_distance(lat1, lon1, lat2, lon2):\n",
    "    # Radius of the Earth in meters\n",
    "    R = 6371000\n",
    "\n",
    "    # Convert latitudes and longitudes to radians\n",
    "    lat1_rad = math.radians(lat1)\n",
    "    lon1_rad = math.radians(lon1)\n",
    "    lat2_rad = math.radians(lat2)\n",
    "    lon2_rad = math.radians(lon2)\n",
    "\n",
    "    # Calculate the differences between the latitudes and longitudes\n",
    "    dlat = lat2_rad - lat1_rad\n",
    "    dlon = lon2_rad - lon1_rad\n",
    "\n",
    "    # Calculate the distance using the Haversine formula\n",
    "    a = math.sin(dlat/2)**2 + math.cos(lat1_rad) * math.cos(lat2_rad) * math.sin(dlon/2)**2\n",
    "    c = 2 * math.atan2(math.sqrt(a), math.sqrt(1-a))\n",
    "    distance = R * c\n",
    "\n",
    "    return distance"
   ]
  },
  {
   "cell_type": "markdown",
   "id": "ecd2d9f7",
   "metadata": {},
   "source": [
    "## Load data"
   ]
  },
  {
   "cell_type": "code",
   "execution_count": 20,
   "id": "7af8d9c1",
   "metadata": {},
   "outputs": [],
   "source": [
    "littoral = pd.read_csv(\"LakeOntarioNearshore_LittoralBarriers.csv\")\n",
    "littoral['distance'] = littoral.apply(lambda row: haversine_distance(row['y_start'], row['x_start'], row['y_end'], row['x_end']), axis=1)\n",
    "#confirmed LengthM is the distance between the points"
   ]
  },
  {
   "cell_type": "markdown",
   "id": "64b9318d",
   "metadata": {},
   "source": [
    "## Littoral Barriers"
   ]
  },
  {
   "cell_type": "markdown",
   "id": "8113b54f",
   "metadata": {},
   "source": [
    "Littoral barriers are underwater ridges or shoals that extend from the shoreline out into a lake or other body of water. They are composed of materials such as sand, gravel, and rock, and are formed by wave action, erosion, and sedimentation. Littoral barriers can have significant ecological and recreational value in lakes, as they can support diverse aquatic plant and animal communities and provide habitat for fish spawning and nursery areas. They can also create sheltered areas for water-based activities such as swimming, fishing, and boating. However, littoral barriers can also pose hazards to navigation, and can be damaged by human activities such as shoreline development, dredging, and watercraft traffic."
   ]
  },
  {
   "cell_type": "code",
   "execution_count": 21,
   "id": "4d461766",
   "metadata": {},
   "outputs": [
    {
     "data": {
      "application/vnd.plotly.v1+json": {
       "config": {
        "plotlyServerURL": "https://plot.ly"
       },
       "data": [
        {
         "lat": [
          43.22445748,
          43.24509793
         ],
         "line": {
          "color": "red"
         },
         "lon": [
          -79.2168594,
          -79.21763298
         ],
         "mode": "lines",
         "showlegend": true,
         "type": "scattermapbox"
        },
        {
         "lat": [
          43.20561382,
          43.21128049
         ],
         "line": {
          "color": "red"
         },
         "lon": [
          -79.26285173,
          -79.26352067
         ],
         "mode": "lines",
         "showlegend": true,
         "type": "scattermapbox"
        },
        {
         "lat": [
          43.18434951,
          43.18612204
         ],
         "line": {
          "color": "red"
         },
         "lon": [
          -79.37073137,
          -79.36989946
         ],
         "mode": "lines",
         "showlegend": true,
         "type": "scattermapbox"
        },
        {
         "lat": [
          43.22449713,
          43.22612767
         ],
         "line": {
          "color": "red"
         },
         "lon": [
          -79.61924434,
          -79.61797395
         ],
         "mode": "lines",
         "showlegend": true,
         "type": "scattermapbox"
        },
        {
         "lat": [
          43.23500379,
          43.23618549
         ],
         "line": {
          "color": "red"
         },
         "lon": [
          -79.6900386,
          -79.68962225
         ],
         "mode": "lines",
         "showlegend": true,
         "type": "scattermapbox"
        },
        {
         "lat": [
          43.29931336,
          43.30146172
         ],
         "line": {
          "color": "red"
         },
         "lon": [
          -79.79512429,
          -79.79080547
         ],
         "mode": "lines",
         "showlegend": true,
         "type": "scattermapbox"
        },
        {
         "lat": [
          43.39489869,
          43.3928354
         ],
         "line": {
          "color": "red"
         },
         "lon": [
          -79.70667487,
          -79.70293078
         ],
         "mode": "lines",
         "showlegend": true,
         "type": "scattermapbox"
        },
        {
         "lat": [
          43.44065754,
          43.43937732
         ],
         "line": {
          "color": "red"
         },
         "lon": [
          -79.66734495,
          -79.665431
         ],
         "mode": "lines",
         "showlegend": true,
         "type": "scattermapbox"
        },
        {
         "lat": [
          43.57449644,
          43.56765745
         ],
         "line": {
          "color": "red"
         },
         "lon": [
          -79.55139271,
          -79.54179478
         ],
         "mode": "lines",
         "showlegend": true,
         "type": "scattermapbox"
        },
        {
         "lat": [
          43.56650848,
          43.56288333
         ],
         "line": {
          "color": "red"
         },
         "lon": [
          -79.56224485,
          -79.55556094
         ],
         "mode": "lines",
         "showlegend": true,
         "type": "scattermapbox"
        },
        {
         "lat": [
          43.59337542,
          43.58717915
         ],
         "line": {
          "color": "red"
         },
         "lon": [
          -79.51297966,
          -79.50990074
         ],
         "mode": "lines",
         "showlegend": true,
         "type": "scattermapbox"
        },
        {
         "lat": [
          43.63080746,
          43.62639982
         ],
         "line": {
          "color": "red"
         },
         "lon": [
          -79.41587764,
          -79.41493173
         ],
         "mode": "lines",
         "showlegend": true,
         "type": "scattermapbox"
        },
        {
         "lat": [
          43.66234734,
          43.6542094
         ],
         "line": {
          "color": "red"
         },
         "lon": [
          -79.31410237,
          -79.30829298
         ],
         "mode": "lines",
         "showlegend": true,
         "type": "scattermapbox"
        },
        {
         "lat": [
          43.70816015,
          43.70460453
         ],
         "line": {
          "color": "red"
         },
         "lon": [
          -79.23543452,
          -79.2289841
         ],
         "mode": "lines",
         "showlegend": true,
         "type": "scattermapbox"
        },
        {
         "lat": [
          43.72235049,
          43.72171854
         ],
         "line": {
          "color": "red"
         },
         "lon": [
          -79.21900449,
          -79.21761205
         ],
         "mode": "lines",
         "showlegend": true,
         "type": "scattermapbox"
        },
        {
         "lat": [
          43.77457869,
          43.77401807
         ],
         "line": {
          "color": "red"
         },
         "lon": [
          -79.13546981,
          -79.13409939
         ],
         "mode": "lines",
         "showlegend": true,
         "type": "scattermapbox"
        },
        {
         "lat": [
          43.81305278,
          43.81045132
         ],
         "line": {
          "color": "red"
         },
         "lon": [
          -79.0868481,
          -79.08627326
         ],
         "mode": "lines",
         "showlegend": true,
         "type": "scattermapbox"
        },
        {
         "lat": [
          43.81077843,
          43.80626018
         ],
         "line": {
          "color": "red"
         },
         "lon": [
          -79.06941271,
          -79.07104206
         ],
         "mode": "lines",
         "showlegend": true,
         "type": "scattermapbox"
        },
        {
         "lat": [
          43.85160522,
          43.84899907
         ],
         "line": {
          "color": "red"
         },
         "lon": [
          -78.92854957,
          -78.92808641
         ],
         "mode": "lines",
         "showlegend": true,
         "type": "scattermapbox"
        },
        {
         "lat": [
          43.86624506,
          43.86422885
         ],
         "line": {
          "color": "red"
         },
         "lon": [
          -78.82400108,
          -78.8222043
         ],
         "mode": "lines",
         "showlegend": true,
         "type": "scattermapbox"
        },
        {
         "lat": [
          43.87662061,
          43.87142342
         ],
         "line": {
          "color": "red"
         },
         "lon": [
          -78.69331816,
          -78.68916523
         ],
         "mode": "lines",
         "showlegend": true,
         "type": "scattermapbox"
        },
        {
         "lat": [
          43.88875674,
          43.88648262
         ],
         "line": {
          "color": "red"
         },
         "lon": [
          -78.66437419,
          -78.66335695
         ],
         "mode": "lines",
         "showlegend": true,
         "type": "scattermapbox"
        },
        {
         "lat": [
          43.89676401,
          43.89563652
         ],
         "line": {
          "color": "red"
         },
         "lon": [
          -78.57670246,
          -78.57597078
         ],
         "mode": "lines",
         "showlegend": true,
         "type": "scattermapbox"
        },
        {
         "lat": [
          43.94420396,
          43.94004401
         ],
         "line": {
          "color": "red"
         },
         "lon": [
          -78.29338826,
          -78.29090907
         ],
         "mode": "lines",
         "showlegend": true,
         "type": "scattermapbox"
        },
        {
         "lat": [
          43.95645035,
          43.95133306
         ],
         "line": {
          "color": "red"
         },
         "lon": [
          -78.16739286,
          -78.16536541
         ],
         "mode": "lines",
         "showlegend": true,
         "type": "scattermapbox"
        },
        {
         "lat": [
          43.97763692,
          43.975622
         ],
         "line": {
          "color": "red"
         },
         "lon": [
          -77.8787572,
          -77.87650436
         ],
         "mode": "lines",
         "showlegend": true,
         "type": "scattermapbox"
        },
        {
         "lat": [
          43.37558921,
          43.37447847
         ],
         "line": {
          "color": "red"
         },
         "lon": [
          -79.71837081,
          -79.71684893
         ],
         "mode": "lines",
         "showlegend": true,
         "type": "scattermapbox"
        },
        {
         "lat": [
          43.48883958,
          43.48392535
         ],
         "line": {
          "color": "red"
         },
         "lon": [
          -79.61609184,
          -79.60966037
         ],
         "mode": "lines",
         "showlegend": true,
         "type": "scattermapbox"
        },
        {
         "lat": [
          43.49661974,
          43.49275889
         ],
         "line": {
          "color": "red"
         },
         "lon": [
          -79.60662672,
          -79.60260547
         ],
         "mode": "lines",
         "showlegend": true,
         "type": "scattermapbox"
        },
        {
         "lat": [
          43.5526122,
          43.54868979
         ],
         "line": {
          "color": "red"
         },
         "lon": [
          -79.5815789,
          -79.57459618
         ],
         "mode": "lines",
         "showlegend": true,
         "type": "scattermapbox"
        },
        {
         "lat": [
          43.54446062,
          43.54331048
         ],
         "line": {
          "color": "red"
         },
         "lon": [
          -79.58413908,
          -79.5826431
         ],
         "mode": "lines",
         "showlegend": true,
         "type": "scattermapbox"
        },
        {
         "lat": [
          43.58919144,
          43.58795547
         ],
         "line": {
          "color": "red"
         },
         "lon": [
          -79.53024384,
          -79.5297233
         ],
         "mode": "lines",
         "showlegend": true,
         "type": "scattermapbox"
        },
        {
         "lat": [
          43.86932601,
          43.86811406
         ],
         "line": {
          "color": "red"
         },
         "lon": [
          -78.73063695,
          -78.7310254
         ],
         "mode": "lines",
         "showlegend": true,
         "type": "scattermapbox"
        },
        {
         "lat": [
          43.64934299,
          43.61721442
         ],
         "line": {
          "color": "red"
         },
         "lon": [
          -79.35104488,
          -79.32378919
         ],
         "mode": "lines",
         "showlegend": true,
         "type": "scattermapbox"
        },
        {
         "lat": [
          43.20475284,
          43.2035844
         ],
         "line": {
          "color": "red"
         },
         "lon": [
          -79.55134677,
          -79.55091926
         ],
         "mode": "lines",
         "showlegend": true,
         "type": "scattermapbox"
        }
       ],
       "layout": {
        "height": 500,
        "mapbox": {
         "center": {
          "lat": 43.6,
          "lon": -78
         },
         "style": "carto-positron",
         "zoom": 5.5
        },
        "showlegend": false,
        "template": {
         "data": {
          "bar": [
           {
            "error_x": {
             "color": "#2a3f5f"
            },
            "error_y": {
             "color": "#2a3f5f"
            },
            "marker": {
             "line": {
              "color": "#E5ECF6",
              "width": 0.5
             },
             "pattern": {
              "fillmode": "overlay",
              "size": 10,
              "solidity": 0.2
             }
            },
            "type": "bar"
           }
          ],
          "barpolar": [
           {
            "marker": {
             "line": {
              "color": "#E5ECF6",
              "width": 0.5
             },
             "pattern": {
              "fillmode": "overlay",
              "size": 10,
              "solidity": 0.2
             }
            },
            "type": "barpolar"
           }
          ],
          "carpet": [
           {
            "aaxis": {
             "endlinecolor": "#2a3f5f",
             "gridcolor": "white",
             "linecolor": "white",
             "minorgridcolor": "white",
             "startlinecolor": "#2a3f5f"
            },
            "baxis": {
             "endlinecolor": "#2a3f5f",
             "gridcolor": "white",
             "linecolor": "white",
             "minorgridcolor": "white",
             "startlinecolor": "#2a3f5f"
            },
            "type": "carpet"
           }
          ],
          "choropleth": [
           {
            "colorbar": {
             "outlinewidth": 0,
             "ticks": ""
            },
            "type": "choropleth"
           }
          ],
          "contour": [
           {
            "colorbar": {
             "outlinewidth": 0,
             "ticks": ""
            },
            "colorscale": [
             [
              0,
              "#0d0887"
             ],
             [
              0.1111111111111111,
              "#46039f"
             ],
             [
              0.2222222222222222,
              "#7201a8"
             ],
             [
              0.3333333333333333,
              "#9c179e"
             ],
             [
              0.4444444444444444,
              "#bd3786"
             ],
             [
              0.5555555555555556,
              "#d8576b"
             ],
             [
              0.6666666666666666,
              "#ed7953"
             ],
             [
              0.7777777777777778,
              "#fb9f3a"
             ],
             [
              0.8888888888888888,
              "#fdca26"
             ],
             [
              1,
              "#f0f921"
             ]
            ],
            "type": "contour"
           }
          ],
          "contourcarpet": [
           {
            "colorbar": {
             "outlinewidth": 0,
             "ticks": ""
            },
            "type": "contourcarpet"
           }
          ],
          "heatmap": [
           {
            "colorbar": {
             "outlinewidth": 0,
             "ticks": ""
            },
            "colorscale": [
             [
              0,
              "#0d0887"
             ],
             [
              0.1111111111111111,
              "#46039f"
             ],
             [
              0.2222222222222222,
              "#7201a8"
             ],
             [
              0.3333333333333333,
              "#9c179e"
             ],
             [
              0.4444444444444444,
              "#bd3786"
             ],
             [
              0.5555555555555556,
              "#d8576b"
             ],
             [
              0.6666666666666666,
              "#ed7953"
             ],
             [
              0.7777777777777778,
              "#fb9f3a"
             ],
             [
              0.8888888888888888,
              "#fdca26"
             ],
             [
              1,
              "#f0f921"
             ]
            ],
            "type": "heatmap"
           }
          ],
          "heatmapgl": [
           {
            "colorbar": {
             "outlinewidth": 0,
             "ticks": ""
            },
            "colorscale": [
             [
              0,
              "#0d0887"
             ],
             [
              0.1111111111111111,
              "#46039f"
             ],
             [
              0.2222222222222222,
              "#7201a8"
             ],
             [
              0.3333333333333333,
              "#9c179e"
             ],
             [
              0.4444444444444444,
              "#bd3786"
             ],
             [
              0.5555555555555556,
              "#d8576b"
             ],
             [
              0.6666666666666666,
              "#ed7953"
             ],
             [
              0.7777777777777778,
              "#fb9f3a"
             ],
             [
              0.8888888888888888,
              "#fdca26"
             ],
             [
              1,
              "#f0f921"
             ]
            ],
            "type": "heatmapgl"
           }
          ],
          "histogram": [
           {
            "marker": {
             "pattern": {
              "fillmode": "overlay",
              "size": 10,
              "solidity": 0.2
             }
            },
            "type": "histogram"
           }
          ],
          "histogram2d": [
           {
            "colorbar": {
             "outlinewidth": 0,
             "ticks": ""
            },
            "colorscale": [
             [
              0,
              "#0d0887"
             ],
             [
              0.1111111111111111,
              "#46039f"
             ],
             [
              0.2222222222222222,
              "#7201a8"
             ],
             [
              0.3333333333333333,
              "#9c179e"
             ],
             [
              0.4444444444444444,
              "#bd3786"
             ],
             [
              0.5555555555555556,
              "#d8576b"
             ],
             [
              0.6666666666666666,
              "#ed7953"
             ],
             [
              0.7777777777777778,
              "#fb9f3a"
             ],
             [
              0.8888888888888888,
              "#fdca26"
             ],
             [
              1,
              "#f0f921"
             ]
            ],
            "type": "histogram2d"
           }
          ],
          "histogram2dcontour": [
           {
            "colorbar": {
             "outlinewidth": 0,
             "ticks": ""
            },
            "colorscale": [
             [
              0,
              "#0d0887"
             ],
             [
              0.1111111111111111,
              "#46039f"
             ],
             [
              0.2222222222222222,
              "#7201a8"
             ],
             [
              0.3333333333333333,
              "#9c179e"
             ],
             [
              0.4444444444444444,
              "#bd3786"
             ],
             [
              0.5555555555555556,
              "#d8576b"
             ],
             [
              0.6666666666666666,
              "#ed7953"
             ],
             [
              0.7777777777777778,
              "#fb9f3a"
             ],
             [
              0.8888888888888888,
              "#fdca26"
             ],
             [
              1,
              "#f0f921"
             ]
            ],
            "type": "histogram2dcontour"
           }
          ],
          "mesh3d": [
           {
            "colorbar": {
             "outlinewidth": 0,
             "ticks": ""
            },
            "type": "mesh3d"
           }
          ],
          "parcoords": [
           {
            "line": {
             "colorbar": {
              "outlinewidth": 0,
              "ticks": ""
             }
            },
            "type": "parcoords"
           }
          ],
          "pie": [
           {
            "automargin": true,
            "type": "pie"
           }
          ],
          "scatter": [
           {
            "fillpattern": {
             "fillmode": "overlay",
             "size": 10,
             "solidity": 0.2
            },
            "type": "scatter"
           }
          ],
          "scatter3d": [
           {
            "line": {
             "colorbar": {
              "outlinewidth": 0,
              "ticks": ""
             }
            },
            "marker": {
             "colorbar": {
              "outlinewidth": 0,
              "ticks": ""
             }
            },
            "type": "scatter3d"
           }
          ],
          "scattercarpet": [
           {
            "marker": {
             "colorbar": {
              "outlinewidth": 0,
              "ticks": ""
             }
            },
            "type": "scattercarpet"
           }
          ],
          "scattergeo": [
           {
            "marker": {
             "colorbar": {
              "outlinewidth": 0,
              "ticks": ""
             }
            },
            "type": "scattergeo"
           }
          ],
          "scattergl": [
           {
            "marker": {
             "colorbar": {
              "outlinewidth": 0,
              "ticks": ""
             }
            },
            "type": "scattergl"
           }
          ],
          "scattermapbox": [
           {
            "marker": {
             "colorbar": {
              "outlinewidth": 0,
              "ticks": ""
             }
            },
            "type": "scattermapbox"
           }
          ],
          "scatterpolar": [
           {
            "marker": {
             "colorbar": {
              "outlinewidth": 0,
              "ticks": ""
             }
            },
            "type": "scatterpolar"
           }
          ],
          "scatterpolargl": [
           {
            "marker": {
             "colorbar": {
              "outlinewidth": 0,
              "ticks": ""
             }
            },
            "type": "scatterpolargl"
           }
          ],
          "scatterternary": [
           {
            "marker": {
             "colorbar": {
              "outlinewidth": 0,
              "ticks": ""
             }
            },
            "type": "scatterternary"
           }
          ],
          "surface": [
           {
            "colorbar": {
             "outlinewidth": 0,
             "ticks": ""
            },
            "colorscale": [
             [
              0,
              "#0d0887"
             ],
             [
              0.1111111111111111,
              "#46039f"
             ],
             [
              0.2222222222222222,
              "#7201a8"
             ],
             [
              0.3333333333333333,
              "#9c179e"
             ],
             [
              0.4444444444444444,
              "#bd3786"
             ],
             [
              0.5555555555555556,
              "#d8576b"
             ],
             [
              0.6666666666666666,
              "#ed7953"
             ],
             [
              0.7777777777777778,
              "#fb9f3a"
             ],
             [
              0.8888888888888888,
              "#fdca26"
             ],
             [
              1,
              "#f0f921"
             ]
            ],
            "type": "surface"
           }
          ],
          "table": [
           {
            "cells": {
             "fill": {
              "color": "#EBF0F8"
             },
             "line": {
              "color": "white"
             }
            },
            "header": {
             "fill": {
              "color": "#C8D4E3"
             },
             "line": {
              "color": "white"
             }
            },
            "type": "table"
           }
          ]
         },
         "layout": {
          "annotationdefaults": {
           "arrowcolor": "#2a3f5f",
           "arrowhead": 0,
           "arrowwidth": 1
          },
          "autotypenumbers": "strict",
          "coloraxis": {
           "colorbar": {
            "outlinewidth": 0,
            "ticks": ""
           }
          },
          "colorscale": {
           "diverging": [
            [
             0,
             "#8e0152"
            ],
            [
             0.1,
             "#c51b7d"
            ],
            [
             0.2,
             "#de77ae"
            ],
            [
             0.3,
             "#f1b6da"
            ],
            [
             0.4,
             "#fde0ef"
            ],
            [
             0.5,
             "#f7f7f7"
            ],
            [
             0.6,
             "#e6f5d0"
            ],
            [
             0.7,
             "#b8e186"
            ],
            [
             0.8,
             "#7fbc41"
            ],
            [
             0.9,
             "#4d9221"
            ],
            [
             1,
             "#276419"
            ]
           ],
           "sequential": [
            [
             0,
             "#0d0887"
            ],
            [
             0.1111111111111111,
             "#46039f"
            ],
            [
             0.2222222222222222,
             "#7201a8"
            ],
            [
             0.3333333333333333,
             "#9c179e"
            ],
            [
             0.4444444444444444,
             "#bd3786"
            ],
            [
             0.5555555555555556,
             "#d8576b"
            ],
            [
             0.6666666666666666,
             "#ed7953"
            ],
            [
             0.7777777777777778,
             "#fb9f3a"
            ],
            [
             0.8888888888888888,
             "#fdca26"
            ],
            [
             1,
             "#f0f921"
            ]
           ],
           "sequentialminus": [
            [
             0,
             "#0d0887"
            ],
            [
             0.1111111111111111,
             "#46039f"
            ],
            [
             0.2222222222222222,
             "#7201a8"
            ],
            [
             0.3333333333333333,
             "#9c179e"
            ],
            [
             0.4444444444444444,
             "#bd3786"
            ],
            [
             0.5555555555555556,
             "#d8576b"
            ],
            [
             0.6666666666666666,
             "#ed7953"
            ],
            [
             0.7777777777777778,
             "#fb9f3a"
            ],
            [
             0.8888888888888888,
             "#fdca26"
            ],
            [
             1,
             "#f0f921"
            ]
           ]
          },
          "colorway": [
           "#636efa",
           "#EF553B",
           "#00cc96",
           "#ab63fa",
           "#FFA15A",
           "#19d3f3",
           "#FF6692",
           "#B6E880",
           "#FF97FF",
           "#FECB52"
          ],
          "font": {
           "color": "#2a3f5f"
          },
          "geo": {
           "bgcolor": "white",
           "lakecolor": "white",
           "landcolor": "#E5ECF6",
           "showlakes": true,
           "showland": true,
           "subunitcolor": "white"
          },
          "hoverlabel": {
           "align": "left"
          },
          "hovermode": "closest",
          "mapbox": {
           "style": "light"
          },
          "paper_bgcolor": "white",
          "plot_bgcolor": "#E5ECF6",
          "polar": {
           "angularaxis": {
            "gridcolor": "white",
            "linecolor": "white",
            "ticks": ""
           },
           "bgcolor": "#E5ECF6",
           "radialaxis": {
            "gridcolor": "white",
            "linecolor": "white",
            "ticks": ""
           }
          },
          "scene": {
           "xaxis": {
            "backgroundcolor": "#E5ECF6",
            "gridcolor": "white",
            "gridwidth": 2,
            "linecolor": "white",
            "showbackground": true,
            "ticks": "",
            "zerolinecolor": "white"
           },
           "yaxis": {
            "backgroundcolor": "#E5ECF6",
            "gridcolor": "white",
            "gridwidth": 2,
            "linecolor": "white",
            "showbackground": true,
            "ticks": "",
            "zerolinecolor": "white"
           },
           "zaxis": {
            "backgroundcolor": "#E5ECF6",
            "gridcolor": "white",
            "gridwidth": 2,
            "linecolor": "white",
            "showbackground": true,
            "ticks": "",
            "zerolinecolor": "white"
           }
          },
          "shapedefaults": {
           "line": {
            "color": "#2a3f5f"
           }
          },
          "ternary": {
           "aaxis": {
            "gridcolor": "white",
            "linecolor": "white",
            "ticks": ""
           },
           "baxis": {
            "gridcolor": "white",
            "linecolor": "white",
            "ticks": ""
           },
           "bgcolor": "#E5ECF6",
           "caxis": {
            "gridcolor": "white",
            "linecolor": "white",
            "ticks": ""
           }
          },
          "title": {
           "x": 0.05
          },
          "xaxis": {
           "automargin": true,
           "gridcolor": "white",
           "linecolor": "white",
           "ticks": "",
           "title": {
            "standoff": 15
           },
           "zerolinecolor": "white",
           "zerolinewidth": 2
          },
          "yaxis": {
           "automargin": true,
           "gridcolor": "white",
           "linecolor": "white",
           "ticks": "",
           "title": {
            "standoff": 15
           },
           "zerolinecolor": "white",
           "zerolinewidth": 2
          }
         }
        },
        "title": {
         "text": "Littoral Barriers",
         "x": 0.5
        },
        "width": 1000
       }
      },
      "text/html": [
       "<div>                            <div id=\"c7476f3b-d073-4518-aabf-b37c6be857d4\" class=\"plotly-graph-div\" style=\"height:500px; width:1000px;\"></div>            <script type=\"text/javascript\">                require([\"plotly\"], function(Plotly) {                    window.PLOTLYENV=window.PLOTLYENV || {};                                    if (document.getElementById(\"c7476f3b-d073-4518-aabf-b37c6be857d4\")) {                    Plotly.newPlot(                        \"c7476f3b-d073-4518-aabf-b37c6be857d4\",                        [{\"lat\":[43.22445748,43.24509793],\"line\":{\"color\":\"red\"},\"lon\":[-79.2168594,-79.21763298],\"mode\":\"lines\",\"showlegend\":true,\"type\":\"scattermapbox\"},{\"lat\":[43.20561382,43.21128049],\"line\":{\"color\":\"red\"},\"lon\":[-79.26285173,-79.26352067],\"mode\":\"lines\",\"showlegend\":true,\"type\":\"scattermapbox\"},{\"lat\":[43.18434951,43.18612204],\"line\":{\"color\":\"red\"},\"lon\":[-79.37073137,-79.36989946],\"mode\":\"lines\",\"showlegend\":true,\"type\":\"scattermapbox\"},{\"lat\":[43.22449713,43.22612767],\"line\":{\"color\":\"red\"},\"lon\":[-79.61924434,-79.61797395],\"mode\":\"lines\",\"showlegend\":true,\"type\":\"scattermapbox\"},{\"lat\":[43.23500379,43.23618549],\"line\":{\"color\":\"red\"},\"lon\":[-79.6900386,-79.68962225],\"mode\":\"lines\",\"showlegend\":true,\"type\":\"scattermapbox\"},{\"lat\":[43.29931336,43.30146172],\"line\":{\"color\":\"red\"},\"lon\":[-79.79512429,-79.79080547],\"mode\":\"lines\",\"showlegend\":true,\"type\":\"scattermapbox\"},{\"lat\":[43.39489869,43.3928354],\"line\":{\"color\":\"red\"},\"lon\":[-79.70667487,-79.70293078],\"mode\":\"lines\",\"showlegend\":true,\"type\":\"scattermapbox\"},{\"lat\":[43.44065754,43.43937732],\"line\":{\"color\":\"red\"},\"lon\":[-79.66734495,-79.665431],\"mode\":\"lines\",\"showlegend\":true,\"type\":\"scattermapbox\"},{\"lat\":[43.57449644,43.56765745],\"line\":{\"color\":\"red\"},\"lon\":[-79.55139271,-79.54179478],\"mode\":\"lines\",\"showlegend\":true,\"type\":\"scattermapbox\"},{\"lat\":[43.56650848,43.56288333],\"line\":{\"color\":\"red\"},\"lon\":[-79.56224485,-79.55556094],\"mode\":\"lines\",\"showlegend\":true,\"type\":\"scattermapbox\"},{\"lat\":[43.59337542,43.58717915],\"line\":{\"color\":\"red\"},\"lon\":[-79.51297966,-79.50990074],\"mode\":\"lines\",\"showlegend\":true,\"type\":\"scattermapbox\"},{\"lat\":[43.63080746,43.62639982],\"line\":{\"color\":\"red\"},\"lon\":[-79.41587764,-79.41493173],\"mode\":\"lines\",\"showlegend\":true,\"type\":\"scattermapbox\"},{\"lat\":[43.66234734,43.6542094],\"line\":{\"color\":\"red\"},\"lon\":[-79.31410237,-79.30829298],\"mode\":\"lines\",\"showlegend\":true,\"type\":\"scattermapbox\"},{\"lat\":[43.70816015,43.70460453],\"line\":{\"color\":\"red\"},\"lon\":[-79.23543452,-79.2289841],\"mode\":\"lines\",\"showlegend\":true,\"type\":\"scattermapbox\"},{\"lat\":[43.72235049,43.72171854],\"line\":{\"color\":\"red\"},\"lon\":[-79.21900449,-79.21761205],\"mode\":\"lines\",\"showlegend\":true,\"type\":\"scattermapbox\"},{\"lat\":[43.77457869,43.77401807],\"line\":{\"color\":\"red\"},\"lon\":[-79.13546981,-79.13409939],\"mode\":\"lines\",\"showlegend\":true,\"type\":\"scattermapbox\"},{\"lat\":[43.81305278,43.81045132],\"line\":{\"color\":\"red\"},\"lon\":[-79.0868481,-79.08627326],\"mode\":\"lines\",\"showlegend\":true,\"type\":\"scattermapbox\"},{\"lat\":[43.81077843,43.80626018],\"line\":{\"color\":\"red\"},\"lon\":[-79.06941271,-79.07104206],\"mode\":\"lines\",\"showlegend\":true,\"type\":\"scattermapbox\"},{\"lat\":[43.85160522,43.84899907],\"line\":{\"color\":\"red\"},\"lon\":[-78.92854957,-78.92808641],\"mode\":\"lines\",\"showlegend\":true,\"type\":\"scattermapbox\"},{\"lat\":[43.86624506,43.86422885],\"line\":{\"color\":\"red\"},\"lon\":[-78.82400108,-78.8222043],\"mode\":\"lines\",\"showlegend\":true,\"type\":\"scattermapbox\"},{\"lat\":[43.87662061,43.87142342],\"line\":{\"color\":\"red\"},\"lon\":[-78.69331816,-78.68916523],\"mode\":\"lines\",\"showlegend\":true,\"type\":\"scattermapbox\"},{\"lat\":[43.88875674,43.88648262],\"line\":{\"color\":\"red\"},\"lon\":[-78.66437419,-78.66335695],\"mode\":\"lines\",\"showlegend\":true,\"type\":\"scattermapbox\"},{\"lat\":[43.89676401,43.89563652],\"line\":{\"color\":\"red\"},\"lon\":[-78.57670246,-78.57597078],\"mode\":\"lines\",\"showlegend\":true,\"type\":\"scattermapbox\"},{\"lat\":[43.94420396,43.94004401],\"line\":{\"color\":\"red\"},\"lon\":[-78.29338826,-78.29090907],\"mode\":\"lines\",\"showlegend\":true,\"type\":\"scattermapbox\"},{\"lat\":[43.95645035,43.95133306],\"line\":{\"color\":\"red\"},\"lon\":[-78.16739286,-78.16536541],\"mode\":\"lines\",\"showlegend\":true,\"type\":\"scattermapbox\"},{\"lat\":[43.97763692,43.975622],\"line\":{\"color\":\"red\"},\"lon\":[-77.8787572,-77.87650436],\"mode\":\"lines\",\"showlegend\":true,\"type\":\"scattermapbox\"},{\"lat\":[43.37558921,43.37447847],\"line\":{\"color\":\"red\"},\"lon\":[-79.71837081,-79.71684893],\"mode\":\"lines\",\"showlegend\":true,\"type\":\"scattermapbox\"},{\"lat\":[43.48883958,43.48392535],\"line\":{\"color\":\"red\"},\"lon\":[-79.61609184,-79.60966037],\"mode\":\"lines\",\"showlegend\":true,\"type\":\"scattermapbox\"},{\"lat\":[43.49661974,43.49275889],\"line\":{\"color\":\"red\"},\"lon\":[-79.60662672,-79.60260547],\"mode\":\"lines\",\"showlegend\":true,\"type\":\"scattermapbox\"},{\"lat\":[43.5526122,43.54868979],\"line\":{\"color\":\"red\"},\"lon\":[-79.5815789,-79.57459618],\"mode\":\"lines\",\"showlegend\":true,\"type\":\"scattermapbox\"},{\"lat\":[43.54446062,43.54331048],\"line\":{\"color\":\"red\"},\"lon\":[-79.58413908,-79.5826431],\"mode\":\"lines\",\"showlegend\":true,\"type\":\"scattermapbox\"},{\"lat\":[43.58919144,43.58795547],\"line\":{\"color\":\"red\"},\"lon\":[-79.53024384,-79.5297233],\"mode\":\"lines\",\"showlegend\":true,\"type\":\"scattermapbox\"},{\"lat\":[43.86932601,43.86811406],\"line\":{\"color\":\"red\"},\"lon\":[-78.73063695,-78.7310254],\"mode\":\"lines\",\"showlegend\":true,\"type\":\"scattermapbox\"},{\"lat\":[43.64934299,43.61721442],\"line\":{\"color\":\"red\"},\"lon\":[-79.35104488,-79.32378919],\"mode\":\"lines\",\"showlegend\":true,\"type\":\"scattermapbox\"},{\"lat\":[43.20475284,43.2035844],\"line\":{\"color\":\"red\"},\"lon\":[-79.55134677,-79.55091926],\"mode\":\"lines\",\"showlegend\":true,\"type\":\"scattermapbox\"}],                        {\"template\":{\"data\":{\"histogram2dcontour\":[{\"type\":\"histogram2dcontour\",\"colorbar\":{\"outlinewidth\":0,\"ticks\":\"\"},\"colorscale\":[[0.0,\"#0d0887\"],[0.1111111111111111,\"#46039f\"],[0.2222222222222222,\"#7201a8\"],[0.3333333333333333,\"#9c179e\"],[0.4444444444444444,\"#bd3786\"],[0.5555555555555556,\"#d8576b\"],[0.6666666666666666,\"#ed7953\"],[0.7777777777777778,\"#fb9f3a\"],[0.8888888888888888,\"#fdca26\"],[1.0,\"#f0f921\"]]}],\"choropleth\":[{\"type\":\"choropleth\",\"colorbar\":{\"outlinewidth\":0,\"ticks\":\"\"}}],\"histogram2d\":[{\"type\":\"histogram2d\",\"colorbar\":{\"outlinewidth\":0,\"ticks\":\"\"},\"colorscale\":[[0.0,\"#0d0887\"],[0.1111111111111111,\"#46039f\"],[0.2222222222222222,\"#7201a8\"],[0.3333333333333333,\"#9c179e\"],[0.4444444444444444,\"#bd3786\"],[0.5555555555555556,\"#d8576b\"],[0.6666666666666666,\"#ed7953\"],[0.7777777777777778,\"#fb9f3a\"],[0.8888888888888888,\"#fdca26\"],[1.0,\"#f0f921\"]]}],\"heatmap\":[{\"type\":\"heatmap\",\"colorbar\":{\"outlinewidth\":0,\"ticks\":\"\"},\"colorscale\":[[0.0,\"#0d0887\"],[0.1111111111111111,\"#46039f\"],[0.2222222222222222,\"#7201a8\"],[0.3333333333333333,\"#9c179e\"],[0.4444444444444444,\"#bd3786\"],[0.5555555555555556,\"#d8576b\"],[0.6666666666666666,\"#ed7953\"],[0.7777777777777778,\"#fb9f3a\"],[0.8888888888888888,\"#fdca26\"],[1.0,\"#f0f921\"]]}],\"heatmapgl\":[{\"type\":\"heatmapgl\",\"colorbar\":{\"outlinewidth\":0,\"ticks\":\"\"},\"colorscale\":[[0.0,\"#0d0887\"],[0.1111111111111111,\"#46039f\"],[0.2222222222222222,\"#7201a8\"],[0.3333333333333333,\"#9c179e\"],[0.4444444444444444,\"#bd3786\"],[0.5555555555555556,\"#d8576b\"],[0.6666666666666666,\"#ed7953\"],[0.7777777777777778,\"#fb9f3a\"],[0.8888888888888888,\"#fdca26\"],[1.0,\"#f0f921\"]]}],\"contourcarpet\":[{\"type\":\"contourcarpet\",\"colorbar\":{\"outlinewidth\":0,\"ticks\":\"\"}}],\"contour\":[{\"type\":\"contour\",\"colorbar\":{\"outlinewidth\":0,\"ticks\":\"\"},\"colorscale\":[[0.0,\"#0d0887\"],[0.1111111111111111,\"#46039f\"],[0.2222222222222222,\"#7201a8\"],[0.3333333333333333,\"#9c179e\"],[0.4444444444444444,\"#bd3786\"],[0.5555555555555556,\"#d8576b\"],[0.6666666666666666,\"#ed7953\"],[0.7777777777777778,\"#fb9f3a\"],[0.8888888888888888,\"#fdca26\"],[1.0,\"#f0f921\"]]}],\"surface\":[{\"type\":\"surface\",\"colorbar\":{\"outlinewidth\":0,\"ticks\":\"\"},\"colorscale\":[[0.0,\"#0d0887\"],[0.1111111111111111,\"#46039f\"],[0.2222222222222222,\"#7201a8\"],[0.3333333333333333,\"#9c179e\"],[0.4444444444444444,\"#bd3786\"],[0.5555555555555556,\"#d8576b\"],[0.6666666666666666,\"#ed7953\"],[0.7777777777777778,\"#fb9f3a\"],[0.8888888888888888,\"#fdca26\"],[1.0,\"#f0f921\"]]}],\"mesh3d\":[{\"type\":\"mesh3d\",\"colorbar\":{\"outlinewidth\":0,\"ticks\":\"\"}}],\"scatter\":[{\"fillpattern\":{\"fillmode\":\"overlay\",\"size\":10,\"solidity\":0.2},\"type\":\"scatter\"}],\"parcoords\":[{\"type\":\"parcoords\",\"line\":{\"colorbar\":{\"outlinewidth\":0,\"ticks\":\"\"}}}],\"scatterpolargl\":[{\"type\":\"scatterpolargl\",\"marker\":{\"colorbar\":{\"outlinewidth\":0,\"ticks\":\"\"}}}],\"bar\":[{\"error_x\":{\"color\":\"#2a3f5f\"},\"error_y\":{\"color\":\"#2a3f5f\"},\"marker\":{\"line\":{\"color\":\"#E5ECF6\",\"width\":0.5},\"pattern\":{\"fillmode\":\"overlay\",\"size\":10,\"solidity\":0.2}},\"type\":\"bar\"}],\"scattergeo\":[{\"type\":\"scattergeo\",\"marker\":{\"colorbar\":{\"outlinewidth\":0,\"ticks\":\"\"}}}],\"scatterpolar\":[{\"type\":\"scatterpolar\",\"marker\":{\"colorbar\":{\"outlinewidth\":0,\"ticks\":\"\"}}}],\"histogram\":[{\"marker\":{\"pattern\":{\"fillmode\":\"overlay\",\"size\":10,\"solidity\":0.2}},\"type\":\"histogram\"}],\"scattergl\":[{\"type\":\"scattergl\",\"marker\":{\"colorbar\":{\"outlinewidth\":0,\"ticks\":\"\"}}}],\"scatter3d\":[{\"type\":\"scatter3d\",\"line\":{\"colorbar\":{\"outlinewidth\":0,\"ticks\":\"\"}},\"marker\":{\"colorbar\":{\"outlinewidth\":0,\"ticks\":\"\"}}}],\"scattermapbox\":[{\"type\":\"scattermapbox\",\"marker\":{\"colorbar\":{\"outlinewidth\":0,\"ticks\":\"\"}}}],\"scatterternary\":[{\"type\":\"scatterternary\",\"marker\":{\"colorbar\":{\"outlinewidth\":0,\"ticks\":\"\"}}}],\"scattercarpet\":[{\"type\":\"scattercarpet\",\"marker\":{\"colorbar\":{\"outlinewidth\":0,\"ticks\":\"\"}}}],\"carpet\":[{\"aaxis\":{\"endlinecolor\":\"#2a3f5f\",\"gridcolor\":\"white\",\"linecolor\":\"white\",\"minorgridcolor\":\"white\",\"startlinecolor\":\"#2a3f5f\"},\"baxis\":{\"endlinecolor\":\"#2a3f5f\",\"gridcolor\":\"white\",\"linecolor\":\"white\",\"minorgridcolor\":\"white\",\"startlinecolor\":\"#2a3f5f\"},\"type\":\"carpet\"}],\"table\":[{\"cells\":{\"fill\":{\"color\":\"#EBF0F8\"},\"line\":{\"color\":\"white\"}},\"header\":{\"fill\":{\"color\":\"#C8D4E3\"},\"line\":{\"color\":\"white\"}},\"type\":\"table\"}],\"barpolar\":[{\"marker\":{\"line\":{\"color\":\"#E5ECF6\",\"width\":0.5},\"pattern\":{\"fillmode\":\"overlay\",\"size\":10,\"solidity\":0.2}},\"type\":\"barpolar\"}],\"pie\":[{\"automargin\":true,\"type\":\"pie\"}]},\"layout\":{\"autotypenumbers\":\"strict\",\"colorway\":[\"#636efa\",\"#EF553B\",\"#00cc96\",\"#ab63fa\",\"#FFA15A\",\"#19d3f3\",\"#FF6692\",\"#B6E880\",\"#FF97FF\",\"#FECB52\"],\"font\":{\"color\":\"#2a3f5f\"},\"hovermode\":\"closest\",\"hoverlabel\":{\"align\":\"left\"},\"paper_bgcolor\":\"white\",\"plot_bgcolor\":\"#E5ECF6\",\"polar\":{\"bgcolor\":\"#E5ECF6\",\"angularaxis\":{\"gridcolor\":\"white\",\"linecolor\":\"white\",\"ticks\":\"\"},\"radialaxis\":{\"gridcolor\":\"white\",\"linecolor\":\"white\",\"ticks\":\"\"}},\"ternary\":{\"bgcolor\":\"#E5ECF6\",\"aaxis\":{\"gridcolor\":\"white\",\"linecolor\":\"white\",\"ticks\":\"\"},\"baxis\":{\"gridcolor\":\"white\",\"linecolor\":\"white\",\"ticks\":\"\"},\"caxis\":{\"gridcolor\":\"white\",\"linecolor\":\"white\",\"ticks\":\"\"}},\"coloraxis\":{\"colorbar\":{\"outlinewidth\":0,\"ticks\":\"\"}},\"colorscale\":{\"sequential\":[[0.0,\"#0d0887\"],[0.1111111111111111,\"#46039f\"],[0.2222222222222222,\"#7201a8\"],[0.3333333333333333,\"#9c179e\"],[0.4444444444444444,\"#bd3786\"],[0.5555555555555556,\"#d8576b\"],[0.6666666666666666,\"#ed7953\"],[0.7777777777777778,\"#fb9f3a\"],[0.8888888888888888,\"#fdca26\"],[1.0,\"#f0f921\"]],\"sequentialminus\":[[0.0,\"#0d0887\"],[0.1111111111111111,\"#46039f\"],[0.2222222222222222,\"#7201a8\"],[0.3333333333333333,\"#9c179e\"],[0.4444444444444444,\"#bd3786\"],[0.5555555555555556,\"#d8576b\"],[0.6666666666666666,\"#ed7953\"],[0.7777777777777778,\"#fb9f3a\"],[0.8888888888888888,\"#fdca26\"],[1.0,\"#f0f921\"]],\"diverging\":[[0,\"#8e0152\"],[0.1,\"#c51b7d\"],[0.2,\"#de77ae\"],[0.3,\"#f1b6da\"],[0.4,\"#fde0ef\"],[0.5,\"#f7f7f7\"],[0.6,\"#e6f5d0\"],[0.7,\"#b8e186\"],[0.8,\"#7fbc41\"],[0.9,\"#4d9221\"],[1,\"#276419\"]]},\"xaxis\":{\"gridcolor\":\"white\",\"linecolor\":\"white\",\"ticks\":\"\",\"title\":{\"standoff\":15},\"zerolinecolor\":\"white\",\"automargin\":true,\"zerolinewidth\":2},\"yaxis\":{\"gridcolor\":\"white\",\"linecolor\":\"white\",\"ticks\":\"\",\"title\":{\"standoff\":15},\"zerolinecolor\":\"white\",\"automargin\":true,\"zerolinewidth\":2},\"scene\":{\"xaxis\":{\"backgroundcolor\":\"#E5ECF6\",\"gridcolor\":\"white\",\"linecolor\":\"white\",\"showbackground\":true,\"ticks\":\"\",\"zerolinecolor\":\"white\",\"gridwidth\":2},\"yaxis\":{\"backgroundcolor\":\"#E5ECF6\",\"gridcolor\":\"white\",\"linecolor\":\"white\",\"showbackground\":true,\"ticks\":\"\",\"zerolinecolor\":\"white\",\"gridwidth\":2},\"zaxis\":{\"backgroundcolor\":\"#E5ECF6\",\"gridcolor\":\"white\",\"linecolor\":\"white\",\"showbackground\":true,\"ticks\":\"\",\"zerolinecolor\":\"white\",\"gridwidth\":2}},\"shapedefaults\":{\"line\":{\"color\":\"#2a3f5f\"}},\"annotationdefaults\":{\"arrowcolor\":\"#2a3f5f\",\"arrowhead\":0,\"arrowwidth\":1},\"geo\":{\"bgcolor\":\"white\",\"landcolor\":\"#E5ECF6\",\"subunitcolor\":\"white\",\"showland\":true,\"showlakes\":true,\"lakecolor\":\"white\"},\"title\":{\"x\":0.05},\"mapbox\":{\"style\":\"light\"}}},\"mapbox\":{\"style\":\"carto-positron\",\"center\":{\"lat\":43.6,\"lon\":-78.0},\"zoom\":5.5},\"title\":{\"text\":\"Littoral Barriers\",\"x\":0.5},\"width\":1000,\"height\":500,\"showlegend\":false},                        {\"responsive\": true}                    ).then(function(){\n",
       "                            \n",
       "var gd = document.getElementById('c7476f3b-d073-4518-aabf-b37c6be857d4');\n",
       "var x = new MutationObserver(function (mutations, observer) {{\n",
       "        var display = window.getComputedStyle(gd).display;\n",
       "        if (!display || display === 'none') {{\n",
       "            console.log([gd, 'removed!']);\n",
       "            Plotly.purge(gd);\n",
       "            observer.disconnect();\n",
       "        }}\n",
       "}});\n",
       "\n",
       "// Listen for the removal of the full notebook cells\n",
       "var notebookContainer = gd.closest('#notebook-container');\n",
       "if (notebookContainer) {{\n",
       "    x.observe(notebookContainer, {childList: true});\n",
       "}}\n",
       "\n",
       "// Listen for the clearing of the current output cell\n",
       "var outputEl = gd.closest('.output');\n",
       "if (outputEl) {{\n",
       "    x.observe(outputEl, {childList: true});\n",
       "}}\n",
       "\n",
       "                        })                };                });            </script>        </div>"
      ]
     },
     "metadata": {},
     "output_type": "display_data"
    }
   ],
   "source": [
    "line_data = []\n",
    "seen_types = set()\n",
    "for index, row in littoral.iterrows():\n",
    "    line_data.append(\n",
    "        {'type': 'scattermapbox',\n",
    "            'mode': 'lines',\n",
    "            'lat': [row['y_start'], row['y_end']],\n",
    "            'lon': [row['x_start'], row['x_end']],\n",
    "            'line': {'color': 'red'},\n",
    "            'showlegend': True})\n",
    "\n",
    "\n",
    "fig = go.Figure(line_data)\n",
    "\n",
    "fig.update_layout(mapbox_style=\"carto-positron\", title='Littoral Barriers', title_x=0.5)\n",
    "fig.update_layout(mapbox=dict(center=dict(lat=43.6, lon=-78.0), zoom=5.5), width=1000, height=500)\n",
    "fig.update_layout(showlegend=False)\n",
    "fig.show()"
   ]
  },
  {
   "cell_type": "code",
   "execution_count": null,
   "id": "7c4b610d",
   "metadata": {},
   "outputs": [],
   "source": []
  }
 ],
 "metadata": {
  "kernelspec": {
   "display_name": "Python 3 (ipykernel)",
   "language": "python",
   "name": "python3"
  },
  "language_info": {
   "codemirror_mode": {
    "name": "ipython",
    "version": 3
   },
   "file_extension": ".py",
   "mimetype": "text/x-python",
   "name": "python",
   "nbconvert_exporter": "python",
   "pygments_lexer": "ipython3",
   "version": "3.9.13"
  }
 },
 "nbformat": 4,
 "nbformat_minor": 5
}
